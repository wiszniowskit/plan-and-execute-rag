{
 "cells": [
  {
   "cell_type": "code",
   "execution_count": null,
   "metadata": {},
   "outputs": [],
   "source": [
    "from langchain_openai import ChatOpenAI\n",
    "import pandas as pd\n",
    "from dotenv import load_dotenv\n",
    "from datasets import load_dataset, Dataset\n",
    "\n",
    "\n",
    "from langchain_openai.chat_models import ChatOpenAI\n",
    "from langchain_core.tools import Tool\n",
    "from langchain_experimental.plan_and_execute import (\n",
    "    PlanAndExecute,\n",
    "    load_agent_executor,\n",
    "    load_chat_planner,\n",
    ")\n",
    "from langchain_openai import ChatOpenAI\n",
    "\n",
    "from ragas import evaluate\n",
    "from ragas.metrics import (\n",
    "    answer_relevancy,\n",
    "    faithfulness,\n",
    "    context_recall,\n",
    "    context_precision,\n",
    ")\n",
    "\n",
    "load_dotenv()"
   ]
  },
  {
   "cell_type": "code",
   "execution_count": null,
   "metadata": {},
   "outputs": [],
   "source": [
    "\n",
    "amnesty_qa = load_dataset(\"explodinggradients/amnesty_qa\", \"english_v2\")"
   ]
  },
  {
   "cell_type": "code",
   "execution_count": null,
   "metadata": {},
   "outputs": [],
   "source": [
    "\n",
    "# Plan-and-execute response \n",
    "def generate_response(prompt_input):\n",
    "    model = ChatOpenAI(model= \"gpt-4o-mini\", temperature=0.7)\n",
    "    \n",
    "    planner = load_chat_planner(model)\n",
    "    tools = []\n",
    "    \n",
    "    executor = load_agent_executor(model, tools, verbose=True)\n",
    "    \n",
    "    agent = PlanAndExecute(planner=planner, executor=executor, verbose=True)\n",
    "    response = agent.invoke({\"input\": prompt_input})\n",
    "    return response[\"output\"]"
   ]
  },
  {
   "cell_type": "code",
   "execution_count": null,
   "metadata": {},
   "outputs": [],
   "source": [
    "\n",
    "# Generate answers for a given model \n",
    "ds_for_parse = amnesty_qa[\"eval\"].to_pandas()\n",
    "results = []\n",
    "prompts = []\n",
    "for index, row in ds_for_parse.iterrows(): \n",
    "    context = row[\"contexts\"]\n",
    "    question = row[\"question\"]\n",
    "    prompt_input = f\"\"\"Answer the question: {question}\n",
    "    Use the provided context to answer the question. The relevant contexts extracted from relevant documents are listed below:\n",
    "    {context}\"\"\"\n",
    "    prompts.append(prompt_input)\n",
    "    result = generate_response(prompt_input)\n",
    "    results.append(result)"
   ]
  },
  {
   "cell_type": "code",
   "execution_count": null,
   "metadata": {},
   "outputs": [],
   "source": [
    "my_dataset = amnesty_qa[\"eval\"].to_pandas()\n",
    "my_dataset[\"answer\"] = pd.Series(results)\n",
    "my_ds_for_eval = Dataset.from_pandas(my_dataset)"
   ]
  },
  {
   "cell_type": "code",
   "execution_count": null,
   "metadata": {},
   "outputs": [],
   "source": [
    "\n",
    "result = evaluate(\n",
    "    my_ds_for_eval,\n",
    "    metrics=[\n",
    "        context_precision,\n",
    "        faithfulness,\n",
    "        answer_relevancy,\n",
    "        context_recall,\n",
    "    ],\n",
    ")"
   ]
  }
 ],
 "metadata": {
  "kernelspec": {
   "display_name": "plan-and-execute-rag-xe948RIs-py3.12",
   "language": "python",
   "name": "python3"
  },
  "language_info": {
   "codemirror_mode": {
    "name": "ipython",
    "version": 3
   },
   "file_extension": ".py",
   "mimetype": "text/x-python",
   "name": "python",
   "nbconvert_exporter": "python",
   "pygments_lexer": "ipython3",
   "version": "3.12.4"
  }
 },
 "nbformat": 4,
 "nbformat_minor": 2
}
