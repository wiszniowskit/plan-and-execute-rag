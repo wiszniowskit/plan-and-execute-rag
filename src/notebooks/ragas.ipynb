{
 "cells": [
  {
   "cell_type": "code",
   "execution_count": 2,
   "metadata": {},
   "outputs": [
    {
     "name": "stderr",
     "output_type": "stream",
     "text": [
      "/Users/tomasz/Library/Caches/pypoetry/virtualenvs/plan-and-execute-rag-xe948RIs-py3.12/lib/python3.12/site-packages/tqdm/auto.py:21: TqdmWarning: IProgress not found. Please update jupyter and ipywidgets. See https://ipywidgets.readthedocs.io/en/stable/user_install.html\n",
      "  from .autonotebook import tqdm as notebook_tqdm\n"
     ]
    },
    {
     "data": {
      "text/plain": [
       "True"
      ]
     },
     "execution_count": 2,
     "metadata": {},
     "output_type": "execute_result"
    }
   ],
   "source": [
    "from langchain_openai import ChatOpenAI\n",
    "import pandas as pd\n",
    "from dotenv import load_dotenv\n",
    "from datasets import load_dataset, Dataset\n",
    "\n",
    "\n",
    "from langchain_openai.chat_models import ChatOpenAI\n",
    "from langchain_core.tools import Tool\n",
    "from langchain_experimental.plan_and_execute import (\n",
    "    PlanAndExecute,\n",
    "    load_agent_executor,\n",
    "    load_chat_planner,\n",
    ")\n",
    "from langchain_openai import ChatOpenAI\n",
    "\n",
    "from ragas import evaluate\n",
    "from ragas.metrics import (\n",
    "    answer_relevancy,\n",
    "    faithfulness,\n",
    "    context_recall,\n",
    "    context_precision,\n",
    ")\n",
    "\n",
    "load_dotenv()"
   ]
  },
  {
   "cell_type": "code",
   "execution_count": 3,
   "metadata": {},
   "outputs": [
    {
     "name": "stderr",
     "output_type": "stream",
     "text": [
      "Repo card metadata block was not found. Setting CardData to empty.\n"
     ]
    }
   ],
   "source": [
    "\n",
    "amnesty_qa = load_dataset(\"explodinggradients/amnesty_qa\", \"english_v2\")"
   ]
  },
  {
   "cell_type": "code",
   "execution_count": 16,
   "metadata": {},
   "outputs": [],
   "source": [
    "\n",
    "def generate_response_rag_prompt(context, question):\n",
    "    model = ChatOpenAI(model= \"gpt-4o-mini\", temperature=0.7)\n",
    "    prompt = f\"\"\"Answer the question: {question}\n",
    "    Use the provided context to answer the question. The relevant contexts extracted from relevant documents are listed below:\n",
    "    {context}\"\"\"    \n",
    "    response = model.invoke(prompt)\n",
    "\n",
    "    return response\n",
    "\n",
    "\n",
    "\n",
    "# Generate answers for a given model \n",
    "ds_for_parse = amnesty_qa[\"eval\"].to_pandas()\n",
    "results = []\n",
    "prompts = []\n",
    "for index, row in ds_for_parse.iterrows(): \n",
    "    context = row[\"contexts\"]\n",
    "    question = row[\"question\"]\n",
    "    result = generate_response_rag_prompt(context, question)\n",
    "    results.append(str(result.content))"
   ]
  },
  {
   "cell_type": "code",
   "execution_count": 17,
   "metadata": {},
   "outputs": [],
   "source": [
    "my_dataset = amnesty_qa[\"eval\"].to_pandas()\n",
    "my_dataset[\"answer\"] = pd.Series(results)\n",
    "my_ds_for_eval = Dataset.from_pandas(my_dataset)    \n"
   ]
  },
  {
   "cell_type": "code",
   "execution_count": 18,
   "metadata": {},
   "outputs": [
    {
     "name": "stderr",
     "output_type": "stream",
     "text": [
      "Evaluating: 100%|██████████| 80/80 [01:01<00:00,  1.30it/s]\n"
     ]
    }
   ],
   "source": [
    "result = evaluate(\n",
    "    my_ds_for_eval,\n",
    "    metrics=[\n",
    "        context_precision,\n",
    "        faithfulness,\n",
    "        answer_relevancy,\n",
    "        context_recall,\n",
    "    ],\n",
    ")\n",
    "\n"
   ]
  },
  {
   "cell_type": "code",
   "execution_count": 19,
   "metadata": {},
   "outputs": [
    {
     "data": {
      "text/plain": [
       "{'context_precision': 0.9417, 'faithfulness': 0.9244, 'answer_relevancy': 0.9683, 'context_recall': 0.9500}"
      ]
     },
     "execution_count": 19,
     "metadata": {},
     "output_type": "execute_result"
    }
   ],
   "source": [
    "result"
   ]
  },
  {
   "cell_type": "code",
   "execution_count": null,
   "metadata": {},
   "outputs": [],
   "source": [
    "\n",
    "# Plan-and-execute response \n",
    "def generate_response_plan_and_execute(prompt_input):\n",
    "    model = ChatOpenAI(model= \"gpt-4o-mini\", temperature=0.7)\n",
    "    \n",
    "    planner = load_chat_planner(model)\n",
    "    tools = []\n",
    "    \n",
    "    executor = load_agent_executor(model, tools, verbose=True)\n",
    "    \n",
    "    agent = PlanAndExecute(planner=planner, executor=executor, verbose=True)\n",
    "    response = agent.invoke({\"input\": prompt_input})\n",
    "    return response[\"output\"]"
   ]
  },
  {
   "cell_type": "code",
   "execution_count": null,
   "metadata": {},
   "outputs": [],
   "source": [
    "\n",
    "# Generate answers for plan and execute\n",
    "ds_for_parse = amnesty_qa[\"eval\"].to_pandas()\n",
    "results = []\n",
    "prompts = []\n",
    "for index, row in ds_for_parse.iterrows(): \n",
    "    context = row[\"contexts\"]\n",
    "    question = row[\"question\"]\n",
    "    prompt_input = f\"\"\"Answer the question: {question}\n",
    "    Use the provided context to answer the question. The relevant contexts extracted from relevant documents are listed below:\n",
    "    {context}\"\"\"\n",
    "    prompts.append(prompt_input)\n",
    "    result = generate_response_plan_and_execute(prompt_input)\n",
    "    results.append(result)"
   ]
  },
  {
   "cell_type": "code",
   "execution_count": null,
   "metadata": {},
   "outputs": [],
   "source": [
    "my_dataset = amnesty_qa[\"eval\"].to_pandas()\n",
    "my_dataset[\"answer\"] = pd.Series(results)\n",
    "my_ds_for_eval = Dataset.from_pandas(my_dataset)"
   ]
  },
  {
   "cell_type": "code",
   "execution_count": null,
   "metadata": {},
   "outputs": [],
   "source": [
    "\n",
    "result = evaluate(\n",
    "    my_ds_for_eval,\n",
    "    metrics=[\n",
    "        context_precision,\n",
    "        faithfulness,\n",
    "        answer_relevancy,\n",
    "        context_recall,\n",
    "    ],\n",
    ")"
   ]
  }
 ],
 "metadata": {
  "kernelspec": {
   "display_name": "plan-and-execute-rag-xe948RIs-py3.12",
   "language": "python",
   "name": "python3"
  },
  "language_info": {
   "codemirror_mode": {
    "name": "ipython",
    "version": 3
   },
   "file_extension": ".py",
   "mimetype": "text/x-python",
   "name": "python",
   "nbconvert_exporter": "python",
   "pygments_lexer": "ipython3",
   "version": "3.12.4"
  }
 },
 "nbformat": 4,
 "nbformat_minor": 2
}
